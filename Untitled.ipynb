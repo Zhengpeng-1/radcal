{
 "cells": [
  {
   "cell_type": "code",
   "execution_count": 1,
   "id": "75cb83bf",
   "metadata": {},
   "outputs": [],
   "source": [
    "from radical.radical import Radical"
   ]
  },
  {
   "cell_type": "code",
   "execution_count": 2,
   "id": "c654742e",
   "metadata": {},
   "outputs": [],
   "source": [
    "a=Radical(\"sk\",export_uncal_pdf=True, delta_14R=False, export_resage_pdf=True,threshold=1e-6)"
   ]
  },
  {
   "cell_type": "code",
   "execution_count": 3,
   "id": "7f601380",
   "metadata": {},
   "outputs": [
    {
     "name": "stdout",
     "output_type": "stream",
     "text": [
      "\n",
      ".running\n"
     ]
    },
    {
     "name": "stderr",
     "output_type": "stream",
     "text": [
      "processing:  26%|\u001b[34m█████████████████▌                                                  \u001b[0m| 100/386 [00:52<03:27,  1.38it/s]\u001b[0m"
     ]
    },
    {
     "name": "stdout",
     "output_type": "stream",
     "text": [
      "\t已经完成了100/386\tthe iter spending time is 0min52.9s \n"
     ]
    },
    {
     "name": "stderr",
     "output_type": "stream",
     "text": [
      "processing:  52%|\u001b[34m███████████████████████████████████▏                                \u001b[0m| 200/386 [02:23<03:02,  1.02it/s]\u001b[0m"
     ]
    },
    {
     "name": "stdout",
     "output_type": "stream",
     "text": [
      "\t已经完成了200/386\tthe iter spending time is 2min23.8s \n"
     ]
    },
    {
     "name": "stderr",
     "output_type": "stream",
     "text": [
      "processing:  78%|\u001b[34m████████████████████████████████████████████████████▊               \u001b[0m| 300/386 [05:47<00:54,  1.58it/s]\u001b[0m"
     ]
    },
    {
     "name": "stdout",
     "output_type": "stream",
     "text": [
      "\t已经完成了300/386\tthe iter spending time is 5min47.3s \n"
     ]
    },
    {
     "name": "stderr",
     "output_type": "stream",
     "text": [
      "processing: 100%|\u001b[34m████████████████████████████████████████████████████████████████████\u001b[0m| 386/386 [06:40<00:00,  1.04s/it]\u001b[0m\n"
     ]
    },
    {
     "name": "stdout",
     "output_type": "stream",
     "text": [
      "the total spending time is 6.0min40.8s \n",
      "Exporting your uncalibrated ages\n"
     ]
    },
    {
     "ename": "ValueError",
     "evalue": "Please, decrease the threshold parameter: e.g. threshold = 1e-14 in the command line.",
     "output_type": "error",
     "traceback": [
      "\u001b[1;31m---------------------------------------------------------------------------\u001b[0m",
      "\u001b[1;31mValueError\u001b[0m                                Traceback (most recent call last)",
      "Cell \u001b[1;32mIn[3], line 1\u001b[0m\n\u001b[1;32m----> 1\u001b[0m a\u001b[38;5;241m.\u001b[39mradcal()\n",
      "File \u001b[1;32mE:\\doctor\\ResAge_122015\\radical\\radical.py:165\u001b[0m, in \u001b[0;36mRadical.radcal\u001b[1;34m(self)\u001b[0m\n\u001b[0;32m    157\u001b[0m \u001b[38;5;28mself\u001b[39m\u001b[38;5;241m.\u001b[39mtemp\u001b[38;5;241m=\u001b[39mtemp\n\u001b[0;32m    163\u001b[0m \u001b[38;5;28;01mif\u001b[39;00m \u001b[38;5;28mself\u001b[39m\u001b[38;5;241m.\u001b[39mexport_uncal_pdf:\n\u001b[1;32m--> 165\u001b[0m     \u001b[38;5;28mself\u001b[39m\u001b[38;5;241m.\u001b[39m_export_uncal_pdf\n\u001b[0;32m    166\u001b[0m \u001b[38;5;28;01mif\u001b[39;00m \u001b[38;5;28mself\u001b[39m\u001b[38;5;241m.\u001b[39mexport_resage_pdf:\n\u001b[0;32m    168\u001b[0m     \u001b[38;5;28mself\u001b[39m\u001b[38;5;241m.\u001b[39m_export_resage_pdf\n",
      "File \u001b[1;32mE:\\doctor\\ResAge_122015\\radical\\radical.py:398\u001b[0m, in \u001b[0;36mRadical._export_uncal_pdf\u001b[1;34m(self)\u001b[0m\n\u001b[0;32m    396\u001b[0m d \u001b[38;5;241m=\u001b[39m \u001b[38;5;28mmax\u001b[39m(np\u001b[38;5;241m.\u001b[39mdiff(\u001b[38;5;28mself\u001b[39m\u001b[38;5;241m.\u001b[39mtemp[\u001b[38;5;124mf\u001b[39m\u001b[38;5;124m\"\u001b[39m\u001b[38;5;124muncalib_\u001b[39m\u001b[38;5;132;01m{\u001b[39;00mi\u001b[38;5;132;01m}\u001b[39;00m\u001b[38;5;124m\"\u001b[39m][\u001b[38;5;124m\"\u001b[39m\u001b[38;5;124mtheta\u001b[39m\u001b[38;5;124m\"\u001b[39m]))\n\u001b[0;32m    397\u001b[0m \u001b[38;5;28;01mif\u001b[39;00m d \u001b[38;5;241m>\u001b[39m \u001b[38;5;241m1\u001b[39m:\n\u001b[1;32m--> 398\u001b[0m     \u001b[38;5;28;01mraise\u001b[39;00m \u001b[38;5;167;01mValueError\u001b[39;00m(\n\u001b[0;32m    399\u001b[0m         \u001b[38;5;124m\"\u001b[39m\u001b[38;5;124mPlease, decrease the threshold parameter: e.g. threshold = 1e-14 in the command line.\u001b[39m\u001b[38;5;124m\"\u001b[39m)\n\u001b[0;32m    400\u001b[0m cal_age[\u001b[38;5;28mint\u001b[39m(np\u001b[38;5;241m.\u001b[39mfloor((np\u001b[38;5;241m.\u001b[39mmin(\u001b[38;5;28mself\u001b[39m\u001b[38;5;241m.\u001b[39mtemp[\u001b[38;5;124mf\u001b[39m\u001b[38;5;124m'\u001b[39m\u001b[38;5;124muncalib_\u001b[39m\u001b[38;5;132;01m{\u001b[39;00mi\u001b[38;5;132;01m}\u001b[39;00m\u001b[38;5;124m'\u001b[39m]\u001b[38;5;241m.\u001b[39miloc[:, \u001b[38;5;241m0\u001b[39m]) \u001b[38;5;241m-\u001b[39m min_val))): \u001b[38;5;28mint\u001b[39m(np\u001b[38;5;241m.\u001b[39mfloor(np\u001b[38;5;241m.\u001b[39mmax(\u001b[38;5;28mself\u001b[39m\u001b[38;5;241m.\u001b[39mtemp[\u001b[38;5;124mf\u001b[39m\u001b[38;5;124m'\u001b[39m\u001b[38;5;124muncalib_\u001b[39m\u001b[38;5;132;01m{\u001b[39;00mi\u001b[38;5;132;01m}\u001b[39;00m\u001b[38;5;124m'\u001b[39m]\u001b[38;5;241m.\u001b[39miloc[:, \u001b[38;5;241m0\u001b[39m]) \u001b[38;5;241m-\u001b[39m min_val\u001b[38;5;241m+\u001b[39m\u001b[38;5;241m1\u001b[39m)), i\u001b[38;5;241m+\u001b[39m\u001b[38;5;241m1\u001b[39m]\u001b[38;5;241m=\u001b[39m\u001b[38;5;28mself\u001b[39m\u001b[38;5;241m.\u001b[39mtemp[\u001b[38;5;124mf\u001b[39m\u001b[38;5;124m'\u001b[39m\u001b[38;5;124muncalib_\u001b[39m\u001b[38;5;132;01m{\u001b[39;00mi\u001b[38;5;132;01m}\u001b[39;00m\u001b[38;5;124m'\u001b[39m]\u001b[38;5;241m.\u001b[39miloc[:,\u001b[38;5;241m1\u001b[39m]\n\u001b[0;32m    401\u001b[0m \u001b[38;5;66;03m# cal_age[self.dat.columns[i + 2]] = self.temp[f\"uncalib_{i}\"].reindex(cal_age.index).interpolate(method='linear', axis=0)[:,1]\u001b[39;00m\n",
      "\u001b[1;31mValueError\u001b[0m: Please, decrease the threshold parameter: e.g. threshold = 1e-14 in the command line."
     ]
    }
   ],
   "source": [
    "a.radcal()"
   ]
  },
  {
   "cell_type": "code",
   "execution_count": null,
   "id": "0044c2b2",
   "metadata": {},
   "outputs": [],
   "source": [
    "a.res_age[:,0].shape"
   ]
  },
  {
   "cell_type": "code",
   "execution_count": null,
   "id": "6eae59e1",
   "metadata": {},
   "outputs": [],
   "source": [
    "mix = np.column_stack([a.res_age[:, 0], mix])"
   ]
  },
  {
   "cell_type": "code",
   "execution_count": null,
   "id": "02d5c045",
   "metadata": {},
   "outputs": [],
   "source": [
    "mix"
   ]
  },
  {
   "cell_type": "code",
   "execution_count": null,
   "id": "add4786f",
   "metadata": {},
   "outputs": [],
   "source": [
    "a._hpd(a.temp[\"uncalib_0\"])"
   ]
  },
  {
   "cell_type": "code",
   "execution_count": null,
   "id": "ae524e28",
   "metadata": {},
   "outputs": [],
   "source": [
    "res=a.calcurve.iloc[:,1]\n",
    "import numpy as np\n",
    "f=np.exp(-res/8033)"
   ]
  },
  {
   "cell_type": "code",
   "execution_count": null,
   "id": "605058ee",
   "metadata": {},
   "outputs": [],
   "source": [
    "a.calcurve"
   ]
  },
  {
   "cell_type": "code",
   "execution_count": null,
   "id": "40bd2170",
   "metadata": {},
   "outputs": [],
   "source": [
    "uncalib = a._uncaldist(a.dat['cal_age'][0], a.dat['cal_sigma'][0])"
   ]
  },
  {
   "cell_type": "code",
   "execution_count": null,
   "id": "a48e48c6",
   "metadata": {},
   "outputs": [],
   "source": [
    "uncalib"
   ]
  }
 ],
 "metadata": {
  "kernelspec": {
   "display_name": "Python 3 (ipykernel)",
   "language": "python",
   "name": "python3"
  },
  "language_info": {
   "codemirror_mode": {
    "name": "ipython",
    "version": 3
   },
   "file_extension": ".py",
   "mimetype": "text/x-python",
   "name": "python",
   "nbconvert_exporter": "python",
   "pygments_lexer": "ipython3",
   "version": "3.11.5"
  }
 },
 "nbformat": 4,
 "nbformat_minor": 5
}
